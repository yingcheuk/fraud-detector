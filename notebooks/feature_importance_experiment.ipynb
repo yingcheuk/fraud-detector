{
 "cells": [
  {
   "cell_type": "markdown",
   "id": "9468404e-4f84-4f9f-a04f-a02749270ccc",
   "metadata": {},
   "source": [
    "## 🔬 Feature selection experiment (did not improve metrics, so skipped)"
   ]
  },
  {
   "cell_type": "code",
   "execution_count": 1,
   "id": "eb47cdd6-d793-4f6c-afeb-ee22f9821bdc",
   "metadata": {},
   "outputs": [],
   "source": [
    "#from visualization import plot_xgb_importance, get_feature_names_from_column_transformer\n",
    "#import joblib\n",
    "\n",
    "#model2 = joblib.load(\"/Users/jennifercyc/Desktop/HSH/ML Project/fraud-detector/models/model2_xgb_inliers.pkl\")\n",
    "#preprocessor2 = joblib.load(\"/Users/jennifercyc/Desktop/HSH/ML Project/fraud-detector/models/preprocessor2_inliers.pkl\")\n",
    "#feature_names2 = get_feature_names_from_column_transformer(preprocessor2)\n",
    "#plot_xgb_importance(model2, feature_names=feature_names2, max_features=40, title=\"Top Features (XGB Inliers)\")\n",
    "\n",
    "#model4 = joblib.load(\"/Users/jennifercyc/Desktop/HSH/ML Project/fraud-detector/models/model4_xgb_outliers.pkl\")\n",
    "#preprocessor4 = joblib.load(\"/Users/jennifercyc/Desktop/HSH/ML Project/fraud-detector/models/preprocessor2_inliers.pkl\")\n",
    "#feature_names4 = get_feature_names_from_column_transformer(preprocessor4)\n",
    "#plot_xgb_importance(model4, feature_names=feature_names4, max_features=40, title=\"Top Features (XGB Outliers)\")"
   ]
  },
  {
   "cell_type": "code",
   "execution_count": 2,
   "id": "ad66af1e-ea23-45cd-8fa7-3ec84db89c14",
   "metadata": {},
   "outputs": [],
   "source": [
    "#from feature_selection import get_important_features_from_xgb\n",
    "\n",
    "#important_feats = get_important_features_from_xgb(model2, feature_names2, threshold=0.1)\n",
    "#df_inliers = df_inliers[important_feats + ['fraud_reported']]\n",
    "\n",
    "#important_feats = get_important_features_from_xgb(model4, feature_names4, threshold=0.1)\n",
    "#df_outliers = df_outliers[important_feats + ['fraud_reported']]\n",
    "\n",
    "#reports, metrics_data = train_models(df_inliers, df_outliers)\n",
    "#summary_df = build_summary_table(reports, metrics_data)"
   ]
  }
 ],
 "metadata": {
  "kernelspec": {
   "display_name": "Python 3 (ipykernel)",
   "language": "python",
   "name": "python3"
  },
  "language_info": {
   "codemirror_mode": {
    "name": "ipython",
    "version": 3
   },
   "file_extension": ".py",
   "mimetype": "text/x-python",
   "name": "python",
   "nbconvert_exporter": "python",
   "pygments_lexer": "ipython3",
   "version": "3.12.4"
  }
 },
 "nbformat": 4,
 "nbformat_minor": 5
}
