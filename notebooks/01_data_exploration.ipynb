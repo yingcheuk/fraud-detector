{
 "cells": [
  {
   "cell_type": "markdown",
   "metadata": {},
   "source": [
    "# Data Cleaning"
   ]
  },
  {
   "cell_type": "markdown",
   "metadata": {},
   "source": [
    "### import pandas and data"
   ]
  },
  {
   "cell_type": "code",
   "execution_count": 6,
   "metadata": {},
   "outputs": [],
   "source": [
    "import pandas as pd"
   ]
  },
  {
   "cell_type": "code",
   "execution_count": 7,
   "metadata": {},
   "outputs": [
    {
     "data": {
      "text/html": [
       "<div>\n",
       "<style scoped>\n",
       "    .dataframe tbody tr th:only-of-type {\n",
       "        vertical-align: middle;\n",
       "    }\n",
       "\n",
       "    .dataframe tbody tr th {\n",
       "        vertical-align: top;\n",
       "    }\n",
       "\n",
       "    .dataframe thead th {\n",
       "        text-align: right;\n",
       "    }\n",
       "</style>\n",
       "<table border=\"1\" class=\"dataframe\">\n",
       "  <thead>\n",
       "    <tr style=\"text-align: right;\">\n",
       "      <th></th>\n",
       "      <th>months_as_customer</th>\n",
       "      <th>age</th>\n",
       "      <th>policy_number</th>\n",
       "      <th>policy_bind_date</th>\n",
       "      <th>policy_state</th>\n",
       "      <th>policy_csl</th>\n",
       "      <th>policy_deductable</th>\n",
       "      <th>policy_annual_premium</th>\n",
       "      <th>umbrella_limit</th>\n",
       "      <th>insured_zip</th>\n",
       "      <th>...</th>\n",
       "      <th>witnesses</th>\n",
       "      <th>police_report_available</th>\n",
       "      <th>total_claim_amount</th>\n",
       "      <th>injury_claim</th>\n",
       "      <th>property_claim</th>\n",
       "      <th>vehicle_claim</th>\n",
       "      <th>auto_make</th>\n",
       "      <th>auto_model</th>\n",
       "      <th>auto_year</th>\n",
       "      <th>fraud_reported</th>\n",
       "    </tr>\n",
       "  </thead>\n",
       "  <tbody>\n",
       "    <tr>\n",
       "      <th>0</th>\n",
       "      <td>328</td>\n",
       "      <td>48</td>\n",
       "      <td>521585</td>\n",
       "      <td>2014-10-17</td>\n",
       "      <td>OH</td>\n",
       "      <td>250/500</td>\n",
       "      <td>1000</td>\n",
       "      <td>1406.91</td>\n",
       "      <td>0</td>\n",
       "      <td>466132</td>\n",
       "      <td>...</td>\n",
       "      <td>2</td>\n",
       "      <td>YES</td>\n",
       "      <td>71610</td>\n",
       "      <td>6510</td>\n",
       "      <td>13020</td>\n",
       "      <td>52080</td>\n",
       "      <td>Saab</td>\n",
       "      <td>92x</td>\n",
       "      <td>2004</td>\n",
       "      <td>Y</td>\n",
       "    </tr>\n",
       "    <tr>\n",
       "      <th>1</th>\n",
       "      <td>228</td>\n",
       "      <td>42</td>\n",
       "      <td>342868</td>\n",
       "      <td>2006-06-27</td>\n",
       "      <td>IN</td>\n",
       "      <td>250/500</td>\n",
       "      <td>2000</td>\n",
       "      <td>1197.22</td>\n",
       "      <td>5000000</td>\n",
       "      <td>468176</td>\n",
       "      <td>...</td>\n",
       "      <td>0</td>\n",
       "      <td>?</td>\n",
       "      <td>5070</td>\n",
       "      <td>780</td>\n",
       "      <td>780</td>\n",
       "      <td>3510</td>\n",
       "      <td>Mercedes</td>\n",
       "      <td>E400</td>\n",
       "      <td>2007</td>\n",
       "      <td>Y</td>\n",
       "    </tr>\n",
       "    <tr>\n",
       "      <th>2</th>\n",
       "      <td>134</td>\n",
       "      <td>29</td>\n",
       "      <td>687698</td>\n",
       "      <td>2000-09-06</td>\n",
       "      <td>OH</td>\n",
       "      <td>100/300</td>\n",
       "      <td>2000</td>\n",
       "      <td>1413.14</td>\n",
       "      <td>5000000</td>\n",
       "      <td>430632</td>\n",
       "      <td>...</td>\n",
       "      <td>3</td>\n",
       "      <td>NO</td>\n",
       "      <td>34650</td>\n",
       "      <td>7700</td>\n",
       "      <td>3850</td>\n",
       "      <td>23100</td>\n",
       "      <td>Dodge</td>\n",
       "      <td>RAM</td>\n",
       "      <td>2007</td>\n",
       "      <td>N</td>\n",
       "    </tr>\n",
       "    <tr>\n",
       "      <th>3</th>\n",
       "      <td>256</td>\n",
       "      <td>41</td>\n",
       "      <td>227811</td>\n",
       "      <td>1990-05-25</td>\n",
       "      <td>IL</td>\n",
       "      <td>250/500</td>\n",
       "      <td>2000</td>\n",
       "      <td>1415.74</td>\n",
       "      <td>6000000</td>\n",
       "      <td>608117</td>\n",
       "      <td>...</td>\n",
       "      <td>2</td>\n",
       "      <td>NO</td>\n",
       "      <td>63400</td>\n",
       "      <td>6340</td>\n",
       "      <td>6340</td>\n",
       "      <td>50720</td>\n",
       "      <td>Chevrolet</td>\n",
       "      <td>Tahoe</td>\n",
       "      <td>2014</td>\n",
       "      <td>Y</td>\n",
       "    </tr>\n",
       "    <tr>\n",
       "      <th>4</th>\n",
       "      <td>228</td>\n",
       "      <td>44</td>\n",
       "      <td>367455</td>\n",
       "      <td>2014-06-06</td>\n",
       "      <td>IL</td>\n",
       "      <td>500/1000</td>\n",
       "      <td>1000</td>\n",
       "      <td>1583.91</td>\n",
       "      <td>6000000</td>\n",
       "      <td>610706</td>\n",
       "      <td>...</td>\n",
       "      <td>1</td>\n",
       "      <td>NO</td>\n",
       "      <td>6500</td>\n",
       "      <td>1300</td>\n",
       "      <td>650</td>\n",
       "      <td>4550</td>\n",
       "      <td>Accura</td>\n",
       "      <td>RSX</td>\n",
       "      <td>2009</td>\n",
       "      <td>N</td>\n",
       "    </tr>\n",
       "  </tbody>\n",
       "</table>\n",
       "<p>5 rows × 39 columns</p>\n",
       "</div>"
      ],
      "text/plain": [
       "   months_as_customer  age  policy_number policy_bind_date policy_state  \\\n",
       "0                 328   48         521585       2014-10-17           OH   \n",
       "1                 228   42         342868       2006-06-27           IN   \n",
       "2                 134   29         687698       2000-09-06           OH   \n",
       "3                 256   41         227811       1990-05-25           IL   \n",
       "4                 228   44         367455       2014-06-06           IL   \n",
       "\n",
       "  policy_csl  policy_deductable  policy_annual_premium  umbrella_limit  \\\n",
       "0    250/500               1000                1406.91               0   \n",
       "1    250/500               2000                1197.22         5000000   \n",
       "2    100/300               2000                1413.14         5000000   \n",
       "3    250/500               2000                1415.74         6000000   \n",
       "4   500/1000               1000                1583.91         6000000   \n",
       "\n",
       "   insured_zip  ... witnesses police_report_available total_claim_amount  \\\n",
       "0       466132  ...         2                     YES              71610   \n",
       "1       468176  ...         0                       ?               5070   \n",
       "2       430632  ...         3                      NO              34650   \n",
       "3       608117  ...         2                      NO              63400   \n",
       "4       610706  ...         1                      NO               6500   \n",
       "\n",
       "  injury_claim property_claim  vehicle_claim  auto_make auto_model auto_year  \\\n",
       "0         6510          13020          52080       Saab        92x      2004   \n",
       "1          780            780           3510   Mercedes       E400      2007   \n",
       "2         7700           3850          23100      Dodge        RAM      2007   \n",
       "3         6340           6340          50720  Chevrolet      Tahoe      2014   \n",
       "4         1300            650           4550     Accura        RSX      2009   \n",
       "\n",
       "  fraud_reported  \n",
       "0              Y  \n",
       "1              Y  \n",
       "2              N  \n",
       "3              Y  \n",
       "4              N  \n",
       "\n",
       "[5 rows x 39 columns]"
      ]
     },
     "execution_count": 7,
     "metadata": {},
     "output_type": "execute_result"
    }
   ],
   "source": [
    "df = pd.read_excel(\"/Users/jennifercyc/Desktop/HSH/ML Project/fraud-detector/data/Worksheet in Case Study question 2.xlsx\")\n",
    "df.head()"
   ]
  },
  {
   "cell_type": "code",
   "execution_count": 8,
   "metadata": {},
   "outputs": [
    {
     "data": {
      "text/plain": [
       "fraud_reported\n",
       "N    753\n",
       "Y    247\n",
       "Name: count, dtype: int64"
      ]
     },
     "execution_count": 8,
     "metadata": {},
     "output_type": "execute_result"
    }
   ],
   "source": [
    "df[\"fraud_reported\"].value_counts()"
   ]
  },
  {
   "cell_type": "markdown",
   "metadata": {},
   "source": [
    "### check NaN values"
   ]
  },
  {
   "cell_type": "code",
   "execution_count": 9,
   "metadata": {},
   "outputs": [],
   "source": [
    "#df.info()\n",
    "\n",
    "#91 NaNs in column \"authorities_contacted\""
   ]
  },
  {
   "cell_type": "code",
   "execution_count": 10,
   "metadata": {},
   "outputs": [
    {
     "data": {
      "text/plain": [
       "'\\nfor i in df.columns.tolist():\\n    print(f\"{i}: {df[i].unique()[:10]}\")\\n'"
      ]
     },
     "execution_count": 10,
     "metadata": {},
     "output_type": "execute_result"
    }
   ],
   "source": [
    "'''\n",
    "for i in df.columns.tolist():\n",
    "    print(f\"{i}: {df[i].unique()[:10]}\")\n",
    "'''"
   ]
  },
  {
   "cell_type": "code",
   "execution_count": 11,
   "metadata": {},
   "outputs": [
    {
     "data": {
      "text/plain": [
       "'\\nfor i in df.columns.tolist():\\n    print(f\"{df[i].value_counts()}\")\\n'"
      ]
     },
     "execution_count": 11,
     "metadata": {},
     "output_type": "execute_result"
    }
   ],
   "source": [
    "'''\n",
    "for i in df.columns.tolist():\n",
    "    print(f\"{df[i].value_counts()}\")\n",
    "'''"
   ]
  },
  {
   "cell_type": "code",
   "execution_count": 12,
   "metadata": {},
   "outputs": [
    {
     "data": {
      "text/plain": [
       "'\\nfor i in df.columns.tolist():\\n    print(f\"{i}: {df[i].describe(include=\\'all\\')}\")\\n'"
      ]
     },
     "execution_count": 12,
     "metadata": {},
     "output_type": "execute_result"
    }
   ],
   "source": [
    "'''\n",
    "for i in df.columns.tolist():\n",
    "    print(f\"{i}: {df[i].describe(include='all')}\")\n",
    "'''"
   ]
  },
  {
   "cell_type": "markdown",
   "metadata": {},
   "source": [
    "### identify string columns (categorial or free-text)"
   ]
  },
  {
   "cell_type": "code",
   "execution_count": 13,
   "metadata": {},
   "outputs": [
    {
     "data": {
      "text/plain": [
       "policy_state                  3\n",
       "policy_csl                    3\n",
       "insured_sex                   2\n",
       "insured_education_level       7\n",
       "insured_occupation           14\n",
       "insured_hobbies              20\n",
       "insured_relationship          6\n",
       "incident_type                 4\n",
       "collision_type                4\n",
       "incident_severity             4\n",
       "authorities_contacted         4\n",
       "incident_state                7\n",
       "incident_city                 7\n",
       "incident_location          1000\n",
       "property_damage               3\n",
       "police_report_available       3\n",
       "auto_make                    14\n",
       "auto_model                   39\n",
       "fraud_reported                2\n",
       "dtype: int64"
      ]
     },
     "execution_count": 13,
     "metadata": {},
     "output_type": "execute_result"
    }
   ],
   "source": [
    "unique_counts = df.select_dtypes(include=['object']).nunique()\n",
    "unique_counts"
   ]
  },
  {
   "cell_type": "markdown",
   "metadata": {},
   "source": [
    "## Data Cleaning - \"Object\" columns"
   ]
  },
  {
   "cell_type": "markdown",
   "metadata": {},
   "source": [
    "### inspect for empty spaces or inconsistent capitalisation"
   ]
  },
  {
   "cell_type": "code",
   "execution_count": 14,
   "metadata": {},
   "outputs": [
    {
     "data": {
      "text/plain": [
       "'\\nfor i in df.select_dtypes(include=[\\'object\\']):\\n    print(f\"{i}: {df[i].unique()[:39]}\")\\n'"
      ]
     },
     "execution_count": 14,
     "metadata": {},
     "output_type": "execute_result"
    }
   ],
   "source": [
    "'''\n",
    "for i in df.select_dtypes(include=['object']):\n",
    "    print(f\"{i}: {df[i].unique()[:39]}\")\n",
    "'''"
   ]
  },
  {
   "cell_type": "markdown",
   "metadata": {},
   "source": [
    "### handling missing values"
   ]
  },
  {
   "cell_type": "code",
   "execution_count": 15,
   "metadata": {},
   "outputs": [
    {
     "data": {
      "text/plain": [
       "policy_state                0\n",
       "policy_csl                  0\n",
       "insured_sex                 0\n",
       "insured_education_level     0\n",
       "insured_occupation          0\n",
       "insured_hobbies             0\n",
       "insured_relationship        0\n",
       "incident_type               0\n",
       "collision_type              0\n",
       "incident_severity           0\n",
       "authorities_contacted      91\n",
       "incident_state              0\n",
       "incident_city               0\n",
       "incident_location           0\n",
       "property_damage             0\n",
       "police_report_available     0\n",
       "auto_make                   0\n",
       "auto_model                  0\n",
       "fraud_reported              0\n",
       "dtype: int64"
      ]
     },
     "execution_count": 15,
     "metadata": {},
     "output_type": "execute_result"
    }
   ],
   "source": [
    "df.select_dtypes(include=['object']).isna().sum()"
   ]
  },
  {
   "cell_type": "code",
   "execution_count": 16,
   "metadata": {},
   "outputs": [],
   "source": [
    "df['authorities_contacted'] = df['authorities_contacted'].fillna('Unknown')"
   ]
  },
  {
   "cell_type": "code",
   "execution_count": 17,
   "metadata": {},
   "outputs": [],
   "source": [
    "# Replace \"?\" with \"Unknown\" in categorical columns\n",
    "\n",
    "df['collision_type'] = df['collision_type'].replace('?', 'Unknown')\n",
    "df['property_damage'] = df['property_damage'].replace('?', 'Unknown')\n",
    "df['police_report_available'] = df['police_report_available'].replace('?', 'Unknown')"
   ]
  },
  {
   "cell_type": "code",
   "execution_count": 18,
   "metadata": {},
   "outputs": [],
   "source": [
    "# map Target Variable\n",
    "df['fraud_reported'] = df['fraud_reported'].map({'Y': 1, 'N': 0})"
   ]
  },
  {
   "cell_type": "markdown",
   "metadata": {},
   "source": [
    "## Data Cleaning - \"Datetime\" columns"
   ]
  },
  {
   "cell_type": "markdown",
   "metadata": {},
   "source": [
    "### Check for invalid dates (NaT) in datetime columns"
   ]
  },
  {
   "cell_type": "code",
   "execution_count": 19,
   "metadata": {},
   "outputs": [
    {
     "data": {
      "text/html": [
       "<div>\n",
       "<style scoped>\n",
       "    .dataframe tbody tr th:only-of-type {\n",
       "        vertical-align: middle;\n",
       "    }\n",
       "\n",
       "    .dataframe tbody tr th {\n",
       "        vertical-align: top;\n",
       "    }\n",
       "\n",
       "    .dataframe thead th {\n",
       "        text-align: right;\n",
       "    }\n",
       "</style>\n",
       "<table border=\"1\" class=\"dataframe\">\n",
       "  <thead>\n",
       "    <tr style=\"text-align: right;\">\n",
       "      <th></th>\n",
       "      <th>months_as_customer</th>\n",
       "      <th>age</th>\n",
       "      <th>policy_number</th>\n",
       "      <th>policy_bind_date</th>\n",
       "      <th>policy_state</th>\n",
       "      <th>policy_csl</th>\n",
       "      <th>policy_deductable</th>\n",
       "      <th>policy_annual_premium</th>\n",
       "      <th>umbrella_limit</th>\n",
       "      <th>insured_zip</th>\n",
       "      <th>...</th>\n",
       "      <th>witnesses</th>\n",
       "      <th>police_report_available</th>\n",
       "      <th>total_claim_amount</th>\n",
       "      <th>injury_claim</th>\n",
       "      <th>property_claim</th>\n",
       "      <th>vehicle_claim</th>\n",
       "      <th>auto_make</th>\n",
       "      <th>auto_model</th>\n",
       "      <th>auto_year</th>\n",
       "      <th>fraud_reported</th>\n",
       "    </tr>\n",
       "  </thead>\n",
       "  <tbody>\n",
       "  </tbody>\n",
       "</table>\n",
       "<p>0 rows × 39 columns</p>\n",
       "</div>"
      ],
      "text/plain": [
       "Empty DataFrame\n",
       "Columns: [months_as_customer, age, policy_number, policy_bind_date, policy_state, policy_csl, policy_deductable, policy_annual_premium, umbrella_limit, insured_zip, insured_sex, insured_education_level, insured_occupation, insured_hobbies, insured_relationship, capital-gains, capital-loss, incident_date, incident_type, collision_type, incident_severity, authorities_contacted, incident_state, incident_city, incident_location, incident_hour_of_the_day, number_of_vehicles_involved, property_damage, bodily_injuries, witnesses, police_report_available, total_claim_amount, injury_claim, property_claim, vehicle_claim, auto_make, auto_model, auto_year, fraud_reported]\n",
       "Index: []\n",
       "\n",
       "[0 rows x 39 columns]"
      ]
     },
     "execution_count": 19,
     "metadata": {},
     "output_type": "execute_result"
    }
   ],
   "source": [
    "invalid_policy_dates = df[df['policy_bind_date'].isna()]\n",
    "invalid_policy_dates"
   ]
  },
  {
   "cell_type": "code",
   "execution_count": 20,
   "metadata": {},
   "outputs": [
    {
     "data": {
      "text/html": [
       "<div>\n",
       "<style scoped>\n",
       "    .dataframe tbody tr th:only-of-type {\n",
       "        vertical-align: middle;\n",
       "    }\n",
       "\n",
       "    .dataframe tbody tr th {\n",
       "        vertical-align: top;\n",
       "    }\n",
       "\n",
       "    .dataframe thead th {\n",
       "        text-align: right;\n",
       "    }\n",
       "</style>\n",
       "<table border=\"1\" class=\"dataframe\">\n",
       "  <thead>\n",
       "    <tr style=\"text-align: right;\">\n",
       "      <th></th>\n",
       "      <th>months_as_customer</th>\n",
       "      <th>age</th>\n",
       "      <th>policy_number</th>\n",
       "      <th>policy_bind_date</th>\n",
       "      <th>policy_state</th>\n",
       "      <th>policy_csl</th>\n",
       "      <th>policy_deductable</th>\n",
       "      <th>policy_annual_premium</th>\n",
       "      <th>umbrella_limit</th>\n",
       "      <th>insured_zip</th>\n",
       "      <th>...</th>\n",
       "      <th>witnesses</th>\n",
       "      <th>police_report_available</th>\n",
       "      <th>total_claim_amount</th>\n",
       "      <th>injury_claim</th>\n",
       "      <th>property_claim</th>\n",
       "      <th>vehicle_claim</th>\n",
       "      <th>auto_make</th>\n",
       "      <th>auto_model</th>\n",
       "      <th>auto_year</th>\n",
       "      <th>fraud_reported</th>\n",
       "    </tr>\n",
       "  </thead>\n",
       "  <tbody>\n",
       "  </tbody>\n",
       "</table>\n",
       "<p>0 rows × 39 columns</p>\n",
       "</div>"
      ],
      "text/plain": [
       "Empty DataFrame\n",
       "Columns: [months_as_customer, age, policy_number, policy_bind_date, policy_state, policy_csl, policy_deductable, policy_annual_premium, umbrella_limit, insured_zip, insured_sex, insured_education_level, insured_occupation, insured_hobbies, insured_relationship, capital-gains, capital-loss, incident_date, incident_type, collision_type, incident_severity, authorities_contacted, incident_state, incident_city, incident_location, incident_hour_of_the_day, number_of_vehicles_involved, property_damage, bodily_injuries, witnesses, police_report_available, total_claim_amount, injury_claim, property_claim, vehicle_claim, auto_make, auto_model, auto_year, fraud_reported]\n",
       "Index: []\n",
       "\n",
       "[0 rows x 39 columns]"
      ]
     },
     "execution_count": 20,
     "metadata": {},
     "output_type": "execute_result"
    }
   ],
   "source": [
    "invalid_incident_dates = df[df['incident_date'].isna()]\n",
    "invalid_incident_dates"
   ]
  },
  {
   "cell_type": "markdown",
   "metadata": {},
   "source": [
    "## Data Cleaning - numerical columns"
   ]
  },
  {
   "cell_type": "markdown",
   "metadata": {},
   "source": [
    "### column retyping"
   ]
  },
  {
   "cell_type": "code",
   "execution_count": 21,
   "metadata": {},
   "outputs": [],
   "source": [
    "df['policy_number'] = df['policy_number'].astype(str)\n",
    "df['insured_zip'] = df['insured_zip'].astype(str)\n",
    "\n",
    "df['policy_deductable'] = df['policy_deductable'].astype(float)\n",
    "df['umbrella_limit'] = df['umbrella_limit'].astype(float)\n",
    "df['capital-gains'] = df['capital-gains'].astype(float)\n",
    "df['capital-loss'] = df['capital-loss'].astype(float)\n",
    "df['total_claim_amount'] = df['total_claim_amount'].astype(float)\n",
    "df['injury_claim'] = df['injury_claim'].astype(float)\n",
    "df['property_claim'] = df['property_claim'].astype(float)\n",
    "df['vehicle_claim'] = df['vehicle_claim'].astype(float)"
   ]
  },
  {
   "cell_type": "code",
   "execution_count": 22,
   "metadata": {},
   "outputs": [],
   "source": [
    "#df.info()"
   ]
  },
  {
   "cell_type": "markdown",
   "metadata": {},
   "source": [
    "### handling invalid values"
   ]
  },
  {
   "cell_type": "code",
   "execution_count": 23,
   "metadata": {},
   "outputs": [
    {
     "name": "stdout",
     "output_type": "stream",
     "text": [
      "umbrella_limit\n",
      "capital-loss\n"
     ]
    }
   ],
   "source": [
    "# negative values\n",
    "\n",
    "for col in ['months_as_customer', 'policy_deductable', 'umbrella_limit', 'age', 'capital-gains', 'capital-loss', \n",
    "            'number_of_vehicles_involved', 'bodily_injuries', 'witnesses',\n",
    "           'total_claim_amount', 'injury_claim', 'property_claim', 'vehicle_claim']:\n",
    "    if (df[col] < 0).sum() != 0:\n",
    "        print(col)"
   ]
  },
  {
   "cell_type": "code",
   "execution_count": 24,
   "metadata": {},
   "outputs": [
    {
     "data": {
      "text/html": [
       "<div>\n",
       "<style scoped>\n",
       "    .dataframe tbody tr th:only-of-type {\n",
       "        vertical-align: middle;\n",
       "    }\n",
       "\n",
       "    .dataframe tbody tr th {\n",
       "        vertical-align: top;\n",
       "    }\n",
       "\n",
       "    .dataframe thead th {\n",
       "        text-align: right;\n",
       "    }\n",
       "</style>\n",
       "<table border=\"1\" class=\"dataframe\">\n",
       "  <thead>\n",
       "    <tr style=\"text-align: right;\">\n",
       "      <th></th>\n",
       "      <th>months_as_customer</th>\n",
       "      <th>age</th>\n",
       "      <th>policy_number</th>\n",
       "      <th>policy_bind_date</th>\n",
       "      <th>policy_state</th>\n",
       "      <th>policy_csl</th>\n",
       "      <th>policy_deductable</th>\n",
       "      <th>policy_annual_premium</th>\n",
       "      <th>umbrella_limit</th>\n",
       "      <th>insured_zip</th>\n",
       "      <th>...</th>\n",
       "      <th>witnesses</th>\n",
       "      <th>police_report_available</th>\n",
       "      <th>total_claim_amount</th>\n",
       "      <th>injury_claim</th>\n",
       "      <th>property_claim</th>\n",
       "      <th>vehicle_claim</th>\n",
       "      <th>auto_make</th>\n",
       "      <th>auto_model</th>\n",
       "      <th>auto_year</th>\n",
       "      <th>fraud_reported</th>\n",
       "    </tr>\n",
       "  </thead>\n",
       "  <tbody>\n",
       "  </tbody>\n",
       "</table>\n",
       "<p>0 rows × 39 columns</p>\n",
       "</div>"
      ],
      "text/plain": [
       "Empty DataFrame\n",
       "Columns: [months_as_customer, age, policy_number, policy_bind_date, policy_state, policy_csl, policy_deductable, policy_annual_premium, umbrella_limit, insured_zip, insured_sex, insured_education_level, insured_occupation, insured_hobbies, insured_relationship, capital-gains, capital-loss, incident_date, incident_type, collision_type, incident_severity, authorities_contacted, incident_state, incident_city, incident_location, incident_hour_of_the_day, number_of_vehicles_involved, property_damage, bodily_injuries, witnesses, police_report_available, total_claim_amount, injury_claim, property_claim, vehicle_claim, auto_make, auto_model, auto_year, fraud_reported]\n",
       "Index: []\n",
       "\n",
       "[0 rows x 39 columns]"
      ]
     },
     "execution_count": 24,
     "metadata": {},
     "output_type": "execute_result"
    }
   ],
   "source": [
    "for i in df[df['umbrella_limit'] < 0].index:\n",
    "    df.loc[i, 'umbrella_limit'] *= -1\n",
    "\n",
    "df[df['umbrella_limit'] < 0]"
   ]
  },
  {
   "cell_type": "code",
   "execution_count": 25,
   "metadata": {},
   "outputs": [
    {
     "data": {
      "text/plain": [
       "Series([], Name: capital-loss, dtype: float64)"
      ]
     },
     "execution_count": 25,
     "metadata": {},
     "output_type": "execute_result"
    }
   ],
   "source": [
    "# make sense that capital-loss is zero or negative value\n",
    "# check for positive values instead\n",
    "df[df['capital-loss'] > 0]['capital-loss']        "
   ]
  },
  {
   "cell_type": "code",
   "execution_count": 26,
   "metadata": {},
   "outputs": [],
   "source": [
    "# logically, incident_date should not be earlier than policy_bind_date\n",
    "df = df[df['policy_bind_date'] < df['incident_date']]"
   ]
  },
  {
   "cell_type": "code",
   "execution_count": 27,
   "metadata": {},
   "outputs": [],
   "source": [
    "# calculate months_with_policy based on the dates\n",
    "df['months_with_policy'] = ((df['incident_date'] - df['policy_bind_date']) / pd.Timedelta(days=30)).astype(int)\n",
    "\n",
    "# Generally, months_as_customer should ≥ months_with_policy (calculated) -> fix the invalid values\n",
    "df.loc[df['months_with_policy'] > df['months_as_customer'], 'months_as_customer'] = df['months_with_policy']"
   ]
  },
  {
   "cell_type": "code",
   "execution_count": 28,
   "metadata": {},
   "outputs": [],
   "source": [
    "# drop datetime columns after calculation\n",
    "df['bind_year'] = pd.to_datetime(df['policy_bind_date']).dt.year\n",
    "df['incident_month'] = pd.to_datetime(df['incident_date']).dt.month\n",
    "df = df.drop(columns=['policy_bind_date', 'incident_date'], errors='ignore')"
   ]
  },
  {
   "cell_type": "code",
   "execution_count": 29,
   "metadata": {},
   "outputs": [],
   "source": [
    "#drop useless columns\n",
    "df = df.drop(columns=['policy_number', 'insured_zip'], errors='ignore')"
   ]
  },
  {
   "cell_type": "code",
   "execution_count": 30,
   "metadata": {},
   "outputs": [
    {
     "name": "stdout",
     "output_type": "stream",
     "text": [
      "<class 'pandas.core.frame.DataFrame'>\n",
      "Index: 999 entries, 0 to 999\n",
      "Data columns (total 38 columns):\n",
      " #   Column                       Non-Null Count  Dtype  \n",
      "---  ------                       --------------  -----  \n",
      " 0   months_as_customer           999 non-null    int64  \n",
      " 1   age                          999 non-null    int64  \n",
      " 2   policy_state                 999 non-null    object \n",
      " 3   policy_csl                   999 non-null    object \n",
      " 4   policy_deductable            999 non-null    float64\n",
      " 5   policy_annual_premium        999 non-null    float64\n",
      " 6   umbrella_limit               999 non-null    float64\n",
      " 7   insured_sex                  999 non-null    object \n",
      " 8   insured_education_level      999 non-null    object \n",
      " 9   insured_occupation           999 non-null    object \n",
      " 10  insured_hobbies              999 non-null    object \n",
      " 11  insured_relationship         999 non-null    object \n",
      " 12  capital-gains                999 non-null    float64\n",
      " 13  capital-loss                 999 non-null    float64\n",
      " 14  incident_type                999 non-null    object \n",
      " 15  collision_type               999 non-null    object \n",
      " 16  incident_severity            999 non-null    object \n",
      " 17  authorities_contacted        999 non-null    object \n",
      " 18  incident_state               999 non-null    object \n",
      " 19  incident_city                999 non-null    object \n",
      " 20  incident_location            999 non-null    object \n",
      " 21  incident_hour_of_the_day     999 non-null    int64  \n",
      " 22  number_of_vehicles_involved  999 non-null    int64  \n",
      " 23  property_damage              999 non-null    object \n",
      " 24  bodily_injuries              999 non-null    int64  \n",
      " 25  witnesses                    999 non-null    int64  \n",
      " 26  police_report_available      999 non-null    object \n",
      " 27  total_claim_amount           999 non-null    float64\n",
      " 28  injury_claim                 999 non-null    float64\n",
      " 29  property_claim               999 non-null    float64\n",
      " 30  vehicle_claim                999 non-null    float64\n",
      " 31  auto_make                    999 non-null    object \n",
      " 32  auto_model                   999 non-null    object \n",
      " 33  auto_year                    999 non-null    int64  \n",
      " 34  fraud_reported               999 non-null    int64  \n",
      " 35  months_with_policy           999 non-null    int64  \n",
      " 36  bind_year                    999 non-null    int32  \n",
      " 37  incident_month               999 non-null    int32  \n",
      "dtypes: float64(9), int32(2), int64(9), object(18)\n",
      "memory usage: 328.9+ KB\n"
     ]
    },
    {
     "data": {
      "text/plain": [
       "(999, 38)"
      ]
     },
     "execution_count": 30,
     "metadata": {},
     "output_type": "execute_result"
    }
   ],
   "source": [
    "df.info()\n",
    "df.shape\n",
    "#999 rows left"
   ]
  },
  {
   "cell_type": "markdown",
   "metadata": {},
   "source": [
    "### separating inliers and outliers"
   ]
  },
  {
   "cell_type": "code",
   "execution_count": 31,
   "metadata": {},
   "outputs": [
    {
     "data": {
      "text/html": [
       "<div>\n",
       "<style scoped>\n",
       "    .dataframe tbody tr th:only-of-type {\n",
       "        vertical-align: middle;\n",
       "    }\n",
       "\n",
       "    .dataframe tbody tr th {\n",
       "        vertical-align: top;\n",
       "    }\n",
       "\n",
       "    .dataframe thead th {\n",
       "        text-align: right;\n",
       "    }\n",
       "</style>\n",
       "<table border=\"1\" class=\"dataframe\">\n",
       "  <thead>\n",
       "    <tr style=\"text-align: right;\">\n",
       "      <th></th>\n",
       "      <th>months_as_customer</th>\n",
       "      <th>policy_deductable</th>\n",
       "      <th>umbrella_limit</th>\n",
       "      <th>age</th>\n",
       "      <th>capital-gains</th>\n",
       "      <th>capital-loss</th>\n",
       "      <th>number_of_vehicles_involved</th>\n",
       "      <th>bodily_injuries</th>\n",
       "      <th>witnesses</th>\n",
       "      <th>total_claim_amount</th>\n",
       "      <th>injury_claim</th>\n",
       "      <th>property_claim</th>\n",
       "      <th>vehicle_claim</th>\n",
       "    </tr>\n",
       "  </thead>\n",
       "  <tbody>\n",
       "    <tr>\n",
       "      <th>count</th>\n",
       "      <td>999.000000</td>\n",
       "      <td>999.000000</td>\n",
       "      <td>9.990000e+02</td>\n",
       "      <td>999.000000</td>\n",
       "      <td>999.000000</td>\n",
       "      <td>999.000000</td>\n",
       "      <td>999.000000</td>\n",
       "      <td>999.000000</td>\n",
       "      <td>999.000000</td>\n",
       "      <td>999.000000</td>\n",
       "      <td>999.000000</td>\n",
       "      <td>999.000000</td>\n",
       "      <td>999.000000</td>\n",
       "    </tr>\n",
       "    <tr>\n",
       "      <th>mean</th>\n",
       "      <td>240.765766</td>\n",
       "      <td>1136.136136</td>\n",
       "      <td>1.104104e+06</td>\n",
       "      <td>38.934935</td>\n",
       "      <td>25100.800801</td>\n",
       "      <td>-26820.520521</td>\n",
       "      <td>1.838839</td>\n",
       "      <td>0.991992</td>\n",
       "      <td>1.485485</td>\n",
       "      <td>52763.613614</td>\n",
       "      <td>7432.992993</td>\n",
       "      <td>7399.109109</td>\n",
       "      <td>37931.511512</td>\n",
       "    </tr>\n",
       "    <tr>\n",
       "      <th>std</th>\n",
       "      <td>93.983088</td>\n",
       "      <td>612.155989</td>\n",
       "      <td>2.297331e+06</td>\n",
       "      <td>9.135518</td>\n",
       "      <td>27874.658249</td>\n",
       "      <td>28105.366259</td>\n",
       "      <td>1.019378</td>\n",
       "      <td>0.820538</td>\n",
       "      <td>1.110859</td>\n",
       "      <td>26414.704027</td>\n",
       "      <td>4883.377920</td>\n",
       "      <td>4827.120746</td>\n",
       "      <td>18895.538780</td>\n",
       "    </tr>\n",
       "    <tr>\n",
       "      <th>min</th>\n",
       "      <td>6.000000</td>\n",
       "      <td>500.000000</td>\n",
       "      <td>0.000000e+00</td>\n",
       "      <td>19.000000</td>\n",
       "      <td>0.000000</td>\n",
       "      <td>-111100.000000</td>\n",
       "      <td>1.000000</td>\n",
       "      <td>0.000000</td>\n",
       "      <td>0.000000</td>\n",
       "      <td>100.000000</td>\n",
       "      <td>0.000000</td>\n",
       "      <td>0.000000</td>\n",
       "      <td>70.000000</td>\n",
       "    </tr>\n",
       "    <tr>\n",
       "      <th>25%</th>\n",
       "      <td>174.000000</td>\n",
       "      <td>500.000000</td>\n",
       "      <td>0.000000e+00</td>\n",
       "      <td>32.000000</td>\n",
       "      <td>0.000000</td>\n",
       "      <td>-51500.000000</td>\n",
       "      <td>1.000000</td>\n",
       "      <td>0.000000</td>\n",
       "      <td>1.000000</td>\n",
       "      <td>41775.000000</td>\n",
       "      <td>4290.000000</td>\n",
       "      <td>4440.000000</td>\n",
       "      <td>30275.000000</td>\n",
       "    </tr>\n",
       "    <tr>\n",
       "      <th>50%</th>\n",
       "      <td>245.000000</td>\n",
       "      <td>1000.000000</td>\n",
       "      <td>0.000000e+00</td>\n",
       "      <td>38.000000</td>\n",
       "      <td>0.000000</td>\n",
       "      <td>-24100.000000</td>\n",
       "      <td>1.000000</td>\n",
       "      <td>1.000000</td>\n",
       "      <td>1.000000</td>\n",
       "      <td>58140.000000</td>\n",
       "      <td>6770.000000</td>\n",
       "      <td>6750.000000</td>\n",
       "      <td>42120.000000</td>\n",
       "    </tr>\n",
       "    <tr>\n",
       "      <th>75%</th>\n",
       "      <td>290.000000</td>\n",
       "      <td>2000.000000</td>\n",
       "      <td>0.000000e+00</td>\n",
       "      <td>44.000000</td>\n",
       "      <td>51050.000000</td>\n",
       "      <td>0.000000</td>\n",
       "      <td>3.000000</td>\n",
       "      <td>2.000000</td>\n",
       "      <td>2.000000</td>\n",
       "      <td>70595.000000</td>\n",
       "      <td>11310.000000</td>\n",
       "      <td>10890.000000</td>\n",
       "      <td>50845.000000</td>\n",
       "    </tr>\n",
       "    <tr>\n",
       "      <th>max</th>\n",
       "      <td>479.000000</td>\n",
       "      <td>2000.000000</td>\n",
       "      <td>1.000000e+07</td>\n",
       "      <td>64.000000</td>\n",
       "      <td>100500.000000</td>\n",
       "      <td>0.000000</td>\n",
       "      <td>4.000000</td>\n",
       "      <td>2.000000</td>\n",
       "      <td>3.000000</td>\n",
       "      <td>114920.000000</td>\n",
       "      <td>21450.000000</td>\n",
       "      <td>23670.000000</td>\n",
       "      <td>79560.000000</td>\n",
       "    </tr>\n",
       "  </tbody>\n",
       "</table>\n",
       "</div>"
      ],
      "text/plain": [
       "       months_as_customer  policy_deductable  umbrella_limit         age  \\\n",
       "count          999.000000         999.000000    9.990000e+02  999.000000   \n",
       "mean           240.765766        1136.136136    1.104104e+06   38.934935   \n",
       "std             93.983088         612.155989    2.297331e+06    9.135518   \n",
       "min              6.000000         500.000000    0.000000e+00   19.000000   \n",
       "25%            174.000000         500.000000    0.000000e+00   32.000000   \n",
       "50%            245.000000        1000.000000    0.000000e+00   38.000000   \n",
       "75%            290.000000        2000.000000    0.000000e+00   44.000000   \n",
       "max            479.000000        2000.000000    1.000000e+07   64.000000   \n",
       "\n",
       "       capital-gains   capital-loss  number_of_vehicles_involved  \\\n",
       "count     999.000000     999.000000                   999.000000   \n",
       "mean    25100.800801  -26820.520521                     1.838839   \n",
       "std     27874.658249   28105.366259                     1.019378   \n",
       "min         0.000000 -111100.000000                     1.000000   \n",
       "25%         0.000000  -51500.000000                     1.000000   \n",
       "50%         0.000000  -24100.000000                     1.000000   \n",
       "75%     51050.000000       0.000000                     3.000000   \n",
       "max    100500.000000       0.000000                     4.000000   \n",
       "\n",
       "       bodily_injuries   witnesses  total_claim_amount  injury_claim  \\\n",
       "count       999.000000  999.000000          999.000000    999.000000   \n",
       "mean          0.991992    1.485485        52763.613614   7432.992993   \n",
       "std           0.820538    1.110859        26414.704027   4883.377920   \n",
       "min           0.000000    0.000000          100.000000      0.000000   \n",
       "25%           0.000000    1.000000        41775.000000   4290.000000   \n",
       "50%           1.000000    1.000000        58140.000000   6770.000000   \n",
       "75%           2.000000    2.000000        70595.000000  11310.000000   \n",
       "max           2.000000    3.000000       114920.000000  21450.000000   \n",
       "\n",
       "       property_claim  vehicle_claim  \n",
       "count      999.000000     999.000000  \n",
       "mean      7399.109109   37931.511512  \n",
       "std       4827.120746   18895.538780  \n",
       "min          0.000000      70.000000  \n",
       "25%       4440.000000   30275.000000  \n",
       "50%       6750.000000   42120.000000  \n",
       "75%      10890.000000   50845.000000  \n",
       "max      23670.000000   79560.000000  "
      ]
     },
     "execution_count": 31,
     "metadata": {},
     "output_type": "execute_result"
    }
   ],
   "source": [
    "df[['months_as_customer', 'policy_deductable', 'umbrella_limit', 'age', 'capital-gains', 'capital-loss', \n",
    "            'number_of_vehicles_involved', 'bodily_injuries', 'witnesses',\n",
    "           'total_claim_amount', 'injury_claim', 'property_claim', 'vehicle_claim']].describe()"
   ]
  },
  {
   "cell_type": "code",
   "execution_count": 32,
   "metadata": {},
   "outputs": [
    {
     "name": "stdout",
     "output_type": "stream",
     "text": [
      "<class 'pandas.core.frame.DataFrame'>\n",
      "Index: 785 entries, 0 to 999\n",
      "Data columns (total 38 columns):\n",
      " #   Column                       Non-Null Count  Dtype  \n",
      "---  ------                       --------------  -----  \n",
      " 0   months_as_customer           785 non-null    int64  \n",
      " 1   age                          785 non-null    int64  \n",
      " 2   policy_state                 785 non-null    object \n",
      " 3   policy_csl                   785 non-null    object \n",
      " 4   policy_deductable            785 non-null    float64\n",
      " 5   policy_annual_premium        785 non-null    float64\n",
      " 6   umbrella_limit               785 non-null    float64\n",
      " 7   insured_sex                  785 non-null    object \n",
      " 8   insured_education_level      785 non-null    object \n",
      " 9   insured_occupation           785 non-null    object \n",
      " 10  insured_hobbies              785 non-null    object \n",
      " 11  insured_relationship         785 non-null    object \n",
      " 12  capital-gains                785 non-null    float64\n",
      " 13  capital-loss                 785 non-null    float64\n",
      " 14  incident_type                785 non-null    object \n",
      " 15  collision_type               785 non-null    object \n",
      " 16  incident_severity            785 non-null    object \n",
      " 17  authorities_contacted        785 non-null    object \n",
      " 18  incident_state               785 non-null    object \n",
      " 19  incident_city                785 non-null    object \n",
      " 20  incident_location            785 non-null    object \n",
      " 21  incident_hour_of_the_day     785 non-null    int64  \n",
      " 22  number_of_vehicles_involved  785 non-null    int64  \n",
      " 23  property_damage              785 non-null    object \n",
      " 24  bodily_injuries              785 non-null    int64  \n",
      " 25  witnesses                    785 non-null    int64  \n",
      " 26  police_report_available      785 non-null    object \n",
      " 27  total_claim_amount           785 non-null    float64\n",
      " 28  injury_claim                 785 non-null    float64\n",
      " 29  property_claim               785 non-null    float64\n",
      " 30  vehicle_claim                785 non-null    float64\n",
      " 31  auto_make                    785 non-null    object \n",
      " 32  auto_model                   785 non-null    object \n",
      " 33  auto_year                    785 non-null    int64  \n",
      " 34  fraud_reported               785 non-null    int64  \n",
      " 35  months_with_policy           785 non-null    int64  \n",
      " 36  bind_year                    785 non-null    int32  \n",
      " 37  incident_month               785 non-null    int32  \n",
      "dtypes: float64(9), int32(2), int64(9), object(18)\n",
      "memory usage: 233.0+ KB\n"
     ]
    }
   ],
   "source": [
    "# Outlier Detection (Numerical Columns) -- IQR method\n",
    "\n",
    "df_clean = df.copy()\n",
    "\n",
    "iqr_columns = ['policy_annual_premium',\n",
    " 'umbrella_limit',\n",
    " 'capital-gains',\n",
    " 'capital-loss',\n",
    " 'total_claim_amount',\n",
    " 'injury_claim',\n",
    " 'property_claim',\n",
    " 'vehicle_claim']\n",
    "\n",
    "for col in iqr_columns:\n",
    "    Q1 = df_clean[col].quantile(0.25)\n",
    "    Q3 = df_clean[col].quantile(0.75)\n",
    "    IQR = Q3 - Q1\n",
    "    lower = Q1 - 1.5 * IQR\n",
    "    upper = Q3 + 1.5 * IQR\n",
    "    df_clean = df_clean[(df_clean[col] >= lower) & (df_clean[col] <= upper)]\n",
    "\n",
    "df_clean.info()\n",
    "\n",
    "#785 rows left"
   ]
  },
  {
   "cell_type": "code",
   "execution_count": 33,
   "metadata": {},
   "outputs": [],
   "source": [
    "df_outliers = df[~df.index.isin(df_clean.index)]  # the 218 dropped rows, possibly extreme/risky data\n",
    "df_inliers = df_clean                             # main cleaned dataset"
   ]
  },
  {
   "cell_type": "code",
   "execution_count": 34,
   "metadata": {},
   "outputs": [
    {
     "data": {
      "text/html": [
       "<div>\n",
       "<style scoped>\n",
       "    .dataframe tbody tr th:only-of-type {\n",
       "        vertical-align: middle;\n",
       "    }\n",
       "\n",
       "    .dataframe tbody tr th {\n",
       "        vertical-align: top;\n",
       "    }\n",
       "\n",
       "    .dataframe thead th {\n",
       "        text-align: right;\n",
       "    }\n",
       "</style>\n",
       "<table border=\"1\" class=\"dataframe\">\n",
       "  <thead>\n",
       "    <tr style=\"text-align: right;\">\n",
       "      <th></th>\n",
       "      <th>Inliers Count</th>\n",
       "      <th>Outliers Count</th>\n",
       "      <th>Inliers %</th>\n",
       "      <th>Outliers %</th>\n",
       "    </tr>\n",
       "    <tr>\n",
       "      <th>fraud_reported</th>\n",
       "      <th></th>\n",
       "      <th></th>\n",
       "      <th></th>\n",
       "      <th></th>\n",
       "    </tr>\n",
       "  </thead>\n",
       "  <tbody>\n",
       "    <tr>\n",
       "      <th>Not Fraud</th>\n",
       "      <td>602</td>\n",
       "      <td>150</td>\n",
       "      <td>76.69</td>\n",
       "      <td>70.09</td>\n",
       "    </tr>\n",
       "    <tr>\n",
       "      <th>Fraud</th>\n",
       "      <td>183</td>\n",
       "      <td>64</td>\n",
       "      <td>23.31</td>\n",
       "      <td>29.91</td>\n",
       "    </tr>\n",
       "  </tbody>\n",
       "</table>\n",
       "</div>"
      ],
      "text/plain": [
       "                Inliers Count  Outliers Count  Inliers %  Outliers %\n",
       "fraud_reported                                                      \n",
       "Not Fraud                 602             150      76.69       70.09\n",
       "Fraud                     183              64      23.31       29.91"
      ]
     },
     "execution_count": 34,
     "metadata": {},
     "output_type": "execute_result"
    }
   ],
   "source": [
    "# Get counts\n",
    "inlier_counts = df_inliers[\"fraud_reported\"].value_counts()\n",
    "outlier_counts = df_outliers[\"fraud_reported\"].value_counts()\n",
    "\n",
    "# Create a summary DataFrame\n",
    "summary = pd.DataFrame({\n",
    "    \"Inliers Count\": inlier_counts,\n",
    "    \"Outliers Count\": outlier_counts\n",
    "})\n",
    "\n",
    "# Add class ratio (percentage)\n",
    "summary[\"Inliers %\"] = (summary[\"Inliers Count\"] / summary[\"Inliers Count\"].sum() * 100).round(2)\n",
    "summary[\"Outliers %\"] = (summary[\"Outliers Count\"] / summary[\"Outliers Count\"].sum() * 100).round(2)\n",
    "\n",
    "summary.index = summary.index.map({0: \"Not Fraud\", 1: \"Fraud\"})\n",
    "\n",
    "summary"
   ]
  },
  {
   "cell_type": "markdown",
   "metadata": {},
   "source": [
    "Even though outliers have a slightly higher fraud rate (30%) than inliers (23%), both sets stay reasonably aligned.  \n",
    "i.e. class ratios are reasonably balanced within each subset.  \n",
    "Models trained separately won’t face imbalance issues (not introducing sampling bias by separating them)"
   ]
  },
  {
   "cell_type": "markdown",
   "metadata": {},
   "source": [
    "### save cleaned data into inliers and outliers sets"
   ]
  },
  {
   "cell_type": "code",
   "execution_count": 35,
   "metadata": {},
   "outputs": [],
   "source": [
    "df_inliers.to_csv(\"../data/processed_inliers.csv\", index=False)\n",
    "df_outliers.to_csv(\"../data/processed_outliers.csv\", index=False)"
   ]
  }
 ],
 "metadata": {
  "kernelspec": {
   "display_name": "Python 3 (ipykernel)",
   "language": "python",
   "name": "python3"
  },
  "language_info": {
   "codemirror_mode": {
    "name": "ipython",
    "version": 3
   },
   "file_extension": ".py",
   "mimetype": "text/x-python",
   "name": "python",
   "nbconvert_exporter": "python",
   "pygments_lexer": "ipython3",
   "version": "3.12.4"
  }
 },
 "nbformat": 4,
 "nbformat_minor": 4
}
