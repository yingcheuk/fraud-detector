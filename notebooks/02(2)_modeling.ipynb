{
 "cells": [
  {
   "cell_type": "code",
   "execution_count": 105,
   "id": "01612d93-ad8a-4df4-8754-ff59611dd757",
   "metadata": {},
   "outputs": [],
   "source": [
    "import os\n",
    "import sys\n",
    "sys.path.insert(0, '/Users/jennifercyc/Desktop/HSH/ML Project/fraud-detector/src')\n",
    "from train import train_models, build_summary_table\n",
    "\n",
    "import pandas as pd"
   ]
  },
  {
   "cell_type": "code",
   "execution_count": 106,
   "id": "6c85a0ff-b93d-4a17-b259-723a797f29d3",
   "metadata": {},
   "outputs": [],
   "source": [
    "#load cleaned datasets\n",
    "\n",
    "df_inliers = pd.read_csv(\"../data/processed_inliers.csv\")\n",
    "df_outliers = pd.read_csv(\"../data/processed_outliers.csv\")"
   ]
  },
  {
   "cell_type": "code",
   "execution_count": 107,
   "id": "c07b010e-cb23-47db-a174-4a4fabf35ec3",
   "metadata": {},
   "outputs": [],
   "source": [
    "reports, metrics_data = train_models(df_inliers, df_outliers)"
   ]
  },
  {
   "cell_type": "code",
   "execution_count": 108,
   "id": "ad8c4076-eff8-451e-b2d7-02278e17f672",
   "metadata": {},
   "outputs": [],
   "source": [
    "pd.set_option('display.max_columns', None)\n",
    "pd.set_option('display.width', 120)"
   ]
  },
  {
   "cell_type": "code",
   "execution_count": 109,
   "id": "16cd5da8-fd8d-4c3b-b906-ad576149137a",
   "metadata": {},
   "outputs": [
    {
     "name": "stdout",
     "output_type": "stream",
     "text": [
      "                       F1 (Fraud)  Recall (Fraud)  Precision (Fraud)  Accuracy  ROC AUC\n",
      "Model 1: LR Inliers          0.59            0.51               0.70      0.83     0.84\n",
      "Model 2: XGB Inliers         0.62            0.65               0.60      0.82     0.82\n",
      "Model 3: LR Outliers         0.42            0.31               0.67      0.74     0.80\n",
      "Model 4: XGB Outliers        0.77            0.77               0.77      0.86     0.94\n"
     ]
    }
   ],
   "source": [
    "summary_df = build_summary_table(reports, metrics_data)"
   ]
  },
  {
   "cell_type": "markdown",
   "id": "d2e44704-55f4-497c-858d-4b077693e34c",
   "metadata": {},
   "source": [
    "## 🔬 Feature selection experiment (did not improve metrics, so skipped)"
   ]
  },
  {
   "cell_type": "code",
   "execution_count": 110,
   "id": "b0f42c93-d0b0-4b1b-bf9d-5989e2470af0",
   "metadata": {},
   "outputs": [],
   "source": [
    "#from visualization import plot_xgb_importance, get_feature_names_from_column_transformer\n",
    "#import joblib\n",
    "\n",
    "#model2 = joblib.load(\"/Users/jennifercyc/Desktop/HSH/ML Project/fraud-detector/models/model2_xgb_inliers.pkl\")\n",
    "#preprocessor2 = joblib.load(\"/Users/jennifercyc/Desktop/HSH/ML Project/fraud-detector/models/preprocessor2_inliers.pkl\")\n",
    "#feature_names2 = get_feature_names_from_column_transformer(preprocessor2)\n",
    "#plot_xgb_importance(model2, feature_names=feature_names2, max_features=40, title=\"Top Features (XGB Inliers)\")\n",
    "\n",
    "#model4 = joblib.load(\"/Users/jennifercyc/Desktop/HSH/ML Project/fraud-detector/models/model4_xgb_outliers.pkl\")\n",
    "#preprocessor4 = joblib.load(\"/Users/jennifercyc/Desktop/HSH/ML Project/fraud-detector/models/preprocessor2_inliers.pkl\")\n",
    "#feature_names4 = get_feature_names_from_column_transformer(preprocessor4)\n",
    "#plot_xgb_importance(model4, feature_names=feature_names4, max_features=40, title=\"Top Features (XGB Outliers)\")"
   ]
  },
  {
   "cell_type": "code",
   "execution_count": 111,
   "id": "dca7466e-75ee-4df7-ae58-2f9202537b10",
   "metadata": {},
   "outputs": [],
   "source": [
    "#from feature_selection import get_important_features_from_xgb\n",
    "\n",
    "#important_feats = get_important_features_from_xgb(model2, feature_names2, threshold=0.1)\n",
    "#df_inliers = df_inliers[important_feats + ['fraud_reported']]\n",
    "\n",
    "#important_feats = get_important_features_from_xgb(model4, feature_names4, threshold=0.1)\n",
    "#df_outliers = df_outliers[important_feats + ['fraud_reported']]\n",
    "\n",
    "#reports, metrics_data = train_models(df_inliers, df_outliers)\n",
    "#summary_df = build_summary_table(reports, metrics_data)"
   ]
  },
  {
   "cell_type": "code",
   "execution_count": null,
   "id": "4b6c95db-0376-46af-baef-95c735d34702",
   "metadata": {},
   "outputs": [],
   "source": []
  }
 ],
 "metadata": {
  "kernelspec": {
   "display_name": "Python 3 (ipykernel)",
   "language": "python",
   "name": "python3"
  },
  "language_info": {
   "codemirror_mode": {
    "name": "ipython",
    "version": 3
   },
   "file_extension": ".py",
   "mimetype": "text/x-python",
   "name": "python",
   "nbconvert_exporter": "python",
   "pygments_lexer": "ipython3",
   "version": "3.12.4"
  }
 },
 "nbformat": 4,
 "nbformat_minor": 5
}
